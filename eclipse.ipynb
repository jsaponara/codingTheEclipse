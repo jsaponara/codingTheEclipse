{
 "cells": [
  {
   "cell_type": "code",
   "execution_count": 15,
   "metadata": {
    "collapsed": true
   },
   "outputs": [],
   "source": [
    "# what can python tell the Princeton Python Meetup about the upcoming eclipse?\n",
    "# Princeton Python Meetup: https://www.meetup.com/pug-ip/\n",
    "# pug-ip is \"python user group - in princeton\"\n",
    "\n",
    "# [install steps here!]  <---------- !!!\n"
   ]
  },
  {
   "cell_type": "code",
   "execution_count": 16,
   "metadata": {},
   "outputs": [
    {
     "name": "stdout",
     "output_type": "stream",
     "text": [
      "{'lon': '-74.6617155', 'lat': '40.3491234'}\n"
     ]
    }
   ],
   "source": [
    "# where is the observer?\n",
    "\n",
    "import requests\n",
    "# requests is not built into python but is very popular\n",
    "# http://docs.python-requests.org/en/master/user/quickstart/\n",
    "\n",
    "def getLatLon(streetAddr, apiKey = None):\n",
    "    '''return lat,lon from street address string\n",
    "        google is more accurate (to the street number) but requires a (free as in beer) key\n",
    "        openstreetmap is missing our street number but knows our street\n",
    "        '''\n",
    "    gglTemplate = 'https://maps.googleapis.com/maps/api/geocode/json?address=%s&key=%s'\n",
    "    osmTemplate = 'http://nominatim.openstreetmap.org/search?q=%s&format=json'\n",
    "    if apiKey:\n",
    "        url = gglTemplate % (streetAddr, apiKey)\n",
    "    else:\n",
    "        url = osmTemplate % streetAddr\n",
    "    r = response = requests.get(url)\n",
    "    if not r.status_code == requests.codes.ok:\n",
    "        r.raise_for_status()\n",
    "    if apiKey:\n",
    "        # no license embedded, but agreed to before receipt of api key\n",
    "        return Loc(**r.json()['results'][0]['geometry']['location'])\n",
    "    else:\n",
    "        data = r.json()[0]\n",
    "        # print(data)  # note license in data['licence'] (non-American spelling)\n",
    "        return dict(lat = data['lat'], lon = data['lon'])\n",
    "\n",
    "tigerLabsLocation = getLatLon('252 Nassau St, Princeton NJ')\n",
    "print(tigerLabsLocation)\n",
    "# {'lat': '40.3491234', 'lon': '-74.6617155'}\n",
    "# this is just a few blocks away: plenty close enough for astronomy!\n",
    "# see map by dropping \"&format=json\" from osm url in browser.\n",
    "# OSM has 246 Nassau but not 252 Nassau.\n"
   ]
  },
  {
   "cell_type": "code",
   "execution_count": 17,
   "metadata": {},
   "outputs": [
    {
     "name": "stdout",
     "output_type": "stream",
     "text": [
      "now in localtime Tue Aug 15 06:04:25 2017\n",
      "now in UTC 2017/8/15 10:04:25\n",
      "is there an eclipse right now? no\n",
      "is there an eclipse at 2pm on 21aug? YES\n"
     ]
    }
   ],
   "source": [
    "# on Aug 21, is there a midafternoon eclipse here?\n",
    "\n",
    "# pythonistas do astronomy with pyephem\n",
    "# http://rhodesmill.org/pyephem/\n",
    "import ephem\n",
    "from math import pi\n",
    "\n",
    "def createObserverAt(location, date = None):\n",
    "    obs = ephem.Observer()\n",
    "    obs.lat = location['lat']\n",
    "    obs.lon = location['lon']\n",
    "    if date:\n",
    "        obs.date = ephem.Date(date)\n",
    "    return obs\n",
    "    \n",
    "sun = ephem.Sun()\n",
    "moon = ephem.Moon()\n",
    "\n",
    "# concept: Observer = when + where; when defaults to now\n",
    "pugipNow = createObserverAt(tigerLabsLocation)\n",
    "# default date is now\n",
    "print('now in localtime',ephem.localtime(pugipNow.date).ctime())\n",
    "# dates default to UTC\n",
    "print('now in UTC',pugipNow.date)\n",
    "\n",
    "secondsOfArcPerRadian = (180 / pi) * 60 * 60\n",
    "# an eclipse is when moon-sun distance is less than the sum of their radii\n",
    "def isEclipse(m, s, obs):\n",
    "    m.compute(obs)\n",
    "    s.compute(obs)\n",
    "    sep = ephem.separation((m.az, m.alt), (s.az, s.alt))\n",
    "    sep = sep * secondsOfArcPerRadian\n",
    "    radii = m.size / 2. + s.size / 2.  # already in seconds of arc\n",
    "    return sep < radii\n",
    "\n",
    "# is there an eclipse right now?\n",
    "answer = 'YES' if isEclipse(moon, sun, pugipNow) else 'no'\n",
    "print('is there an eclipse right now?',answer)\n",
    "\n",
    "# is there an eclipse on 21aug at 2pm ET?\n",
    "duringEclipse = '2017/8/21 18:00:00'  # approximate\n",
    "pugipDuringEclipse = createObserverAt(tigerLabsLocation, duringEclipse)\n",
    "#print(ephem.localtime(date).ctime())\n",
    "answer = 'YES' if isEclipse(moon, sun, pugipDuringEclipse) else 'no'\n",
    "print('is there an eclipse at 2pm on 21aug?',answer)\n"
   ]
  },
  {
   "cell_type": "code",
   "execution_count": 18,
   "metadata": {
    "scrolled": false
   },
   "outputs": [
    {
     "name": "stdout",
     "output_type": "stream",
     "text": [
      "overlap now: 0.0\n",
      "overlap sometime during eclipse: 0.30309822942311443\n"
     ]
    }
   ],
   "source": [
    "# how eclipsed is the sun by the moon at a given time?\n",
    "# a convenient measure of eclipse-ness is occlusion or overlap\n",
    "# how do we compute the overlap of two circles?\n",
    "\n",
    "# shapely is a popular geometry library\n",
    "# sudo apt install libgeos-dev libgeos++-dev\n",
    "# sudo pip install shapely\n",
    "\n",
    "# in shapely, a circle is a point with a radius 'buffer'\n",
    "from shapely.geometry import Point\n",
    "\n",
    "def proportionOverlap(m, s, obs):\n",
    "    m.compute(obs)\n",
    "    s.compute(obs)\n",
    "    secondsOfArcPerRadian = (180 / pi) * 60 * 60  # todo how share btw cells?\n",
    "    #print('moon',float(m.az),float(m.alt),m.size / 2. / secondsOfArcPerRadian)\n",
    "    #print('sun',float(s.az),float(s.alt),s.size / 2. / secondsOfArcPerRadian)\n",
    "    #circle = lambda x: Point(float(x.az),float(x.alt)).buffer(x.size / 2. / secondsOfArcPerRadian)\n",
    "    circle = lambda x: Point(float(x.ra),float(x.dec)).buffer(x.size / 2. / secondsOfArcPerRadian)\n",
    "    #circle = lambda x: Point(float(x.g_ra),float(x.g_dec)).buffer(x.size / 2. / secondsOfArcPerRadian)\n",
    "    overlap = circle(m).intersection(circle(s)).area\n",
    "    return overlap / circle(s).area\n",
    "\n",
    "print('overlap now:',proportionOverlap(moon, sun, pugipNow))\n",
    "print('overlap sometime during eclipse:',proportionOverlap(moon, sun, pugipDuringEclipse))\n"
   ]
  },
  {
   "cell_type": "code",
   "execution_count": 19,
   "metadata": {},
   "outputs": [
    {
     "name": "stdout",
     "output_type": "stream",
     "text": [
      "oops: field earth_distance undefined until first compute()\n",
      "distance now to: sun 1.012747883796692 ; moon 0.002439310075715184\n",
      "distance to moon now: 0.002439310075715184\n",
      "distance to moon duringEclipse: 0.002450399100780487\n",
      "moon obscures sun :)\n"
     ]
    }
   ],
   "source": [
    "# comic relief: we've found that the moon overlaps the sun, \n",
    "#   but which is frontmost and which is obscured?\n",
    "\n",
    "moon2 = ephem.Moon()\n",
    "try:\n",
    "    print(moon2.earth_distance)\n",
    "except Exception as e:\n",
    "    print('oops:',e)\n",
    "# \".earth_distance\" requires observer, \n",
    "#    so it gives the distance at the observer's time\n",
    "\n",
    "# distance given in AU or astronomical units\n",
    "moon.compute(pugipNow)\n",
    "sun.compute(pugipNow)\n",
    "print('distance now to: sun',sun.earth_distance,'; moon',moon.earth_distance)\n",
    "\n",
    "# interesting that the sun is farther than average right now [mid-August]\n",
    "#   in the northern hemisphere's summer\n",
    "# exercise for the reader: when is the sun farthest from earth?\n",
    "\n",
    "# let's check that the moon's distance does indeed vary with date\n",
    "moon.compute(pugipNow)\n",
    "moon2earthNow = moon.earth_distance\n",
    "print('distance to moon now:',moon.earth_distance)\n",
    "moon.compute(pugipDuringEclipse)\n",
    "moon2earthDuringEclipse = moon.earth_distance\n",
    "print('distance to moon duringEclipse:',moon.earth_distance)\n",
    "assert moon2earthNow != moon2earthDuringEclipse\n",
    "\n",
    "# finally, which is closer during the eclipse?\n",
    "if moon.earth_distance < sun.earth_distance:\n",
    "    print('moon obscures sun :)')\n",
    "else:\n",
    "    print('sun obscures moon')\n"
   ]
  },
  {
   "cell_type": "code",
   "execution_count": 20,
   "metadata": {},
   "outputs": [
    {
     "name": "stdout",
     "output_type": "stream",
     "text": [
      "2017-08-21 13:24:59 0.001694107284564178\n",
      "2017-08-21 13:29:59 0.022510617905891008\n",
      "2017-08-21 13:34:59 0.054807727390063364\n",
      "2017-08-21 13:39:59 0.09481706652618094\n",
      "2017-08-21 13:44:59 0.14072852431040966\n",
      "2017-08-21 13:49:59 0.1913400777684003\n",
      "2017-08-21 13:54:59 0.24574093139811679\n",
      "2017-08-21 13:59:59 0.30309822157773364\n",
      "2017-08-21 14:04:59 0.3626283697863124\n",
      "2017-08-21 14:09:59 0.4234714303358568\n",
      "2017-08-21 14:14:59 0.4846186901303971\n",
      "2017-08-21 14:19:59 0.5447697599578196\n",
      "2017-08-21 14:24:59 0.6021169745457123\n",
      "2017-08-21 14:29:59 0.6540582828556148\n",
      "2017-08-21 14:34:59 0.6968072969289318\n",
      "2017-08-21 14:39:59 0.7254318946603809\n",
      "2017-08-21 14:44:59 0.7349944145927305\n",
      "2017-08-21 14:49:59 0.7232447022659445\n",
      "2017-08-21 14:54:59 0.6922706044046211\n",
      "2017-08-21 14:59:59 0.6468784556333882\n",
      "2017-08-21 15:04:59 0.591896862613738\n",
      "2017-08-21 15:09:59 0.5310909683699548\n",
      "2017-08-21 15:14:59 0.4671264753318823\n",
      "2017-08-21 15:19:59 0.4018879382779289\n",
      "2017-08-21 15:24:59 0.33683087577359005\n",
      "2017-08-21 15:29:59 0.2731591102424114\n",
      "2017-08-21 15:34:59 0.2119833928350265\n",
      "2017-08-21 15:39:59 0.15447774371631184\n",
      "2017-08-21 15:44:59 0.10196556315663628\n",
      "2017-08-21 15:49:59 0.05617970923100489\n",
      "2017-08-21 15:54:59 0.019828862530723683\n",
      "\n",
      "2017-08-21 14:41:00 0.7289981442372744\n",
      "2017-08-21 14:42:00 0.7317584861153186\n",
      "2017-08-21 14:43:00 0.7336941918871309\n",
      "2017-08-21 14:44:00 0.7347687954737682\n",
      "2017-08-21 14:45:00 0.734994414242722\n",
      "2017-08-21 14:46:00 0.7343360444997422\n",
      "2017-08-21 14:47:00 0.7328300577465111\n",
      "2017-08-21 14:48:00 0.7304556285842289\n",
      "2017-08-21 14:49:00 0.7272596396815275\n",
      "2017-08-21 14:50:00 0.7232446992194412\n",
      "\n",
      "2017-08-21 14:44:04 0.7348194092461577\n",
      "2017-08-21 14:44:09 0.7348643729696106\n",
      "2017-08-21 14:44:14 0.7349037993521018\n",
      "2017-08-21 14:44:19 0.7349375391349154\n",
      "2017-08-21 14:44:24 0.7349657701022314\n",
      "2017-08-21 14:44:29 0.7349883516570097\n",
      "2017-08-21 14:44:34 0.7350051646286594\n",
      "2017-08-21 14:44:39 0.7350156235157614\n",
      "2017-08-21 14:44:44 0.7350198243683954\n",
      "2017-08-21 14:44:49 0.7350176552343127\n",
      "2017-08-21 14:44:54 0.7350091662206327\n",
      "2017-08-21 14:44:59 0.7349944143908999\n",
      "2017-08-21 14:45:04 0.7349733531536229\n",
      "2017-08-21 14:45:09 0.7349463110528468\n",
      "2017-08-21 14:45:14 0.7349130559354693\n",
      "2017-08-21 14:45:19 0.7348734255424629\n",
      "2017-08-21 14:45:24 0.7348274703442849\n",
      "2017-08-21 14:45:29 0.7347751926460511\n",
      "2017-08-21 14:45:34 0.7347165889968007\n",
      "2017-08-21 14:45:39 0.7346518034337894\n",
      "2017-08-21 14:45:44 0.7345812766211174\n",
      "2017-08-21 14:45:49 0.7345051484940693\n",
      "2017-08-21 14:45:54 0.734423379358931\n",
      "2017-08-21 14:45:59 0.7343360446940903\n",
      "2017-08-21 14:46:04 0.7342431047175683\n"
     ]
    }
   ],
   "source": [
    "# when is the best time to view the eclipse?\n",
    "\n",
    "noon = ephem.Date('2017-08-21 16:00:00')  # UTC\n",
    "#print('noon',ephem.localtime(noon))  # close enough\n",
    "hoursPerDay = 24\n",
    "def hoursSinceNoon(ephemDate):\n",
    "    return (ephemDate - noon) * hoursPerDay\n",
    "\n",
    "timeDuringEclipse = ephem.Date(duringEclipse)\n",
    "safeOffset = 12 * ephem.hour\n",
    "startTime = timeDuringEclipse - safeOffset\n",
    "endTime   = timeDuringEclipse + safeOffset\n",
    "pugip = createObserverAt(tigerLabsLocation, startTime)\n",
    "\n",
    "data = []\n",
    "\n",
    "while pugip.date < endTime:\n",
    "    pugip.date += ephem.minute * 5.\n",
    "    p = proportionOverlap(moon, sun, pugip)\n",
    "    if p > 0:\n",
    "        print(ephem.localtime(pugip.date), p)\n",
    "        data.append((hoursSinceNoon(pugip.date), p))\n",
    "\n",
    "# eclipse is 1:25pm - 2:55pm ET\n",
    "# let's increase resolution near the maximum\n",
    "pugip.date = ephem.Date('2017/8/21 18:40:00')  # UTC\n",
    "endTime = pugip.date + 10. * ephem.minute\n",
    "print()\n",
    "while pugip.date < endTime:\n",
    "    pugip.date += 1. * ephem.minute\n",
    "    p = proportionOverlap(moon, sun, pugip)\n",
    "    print(ephem.localtime(pugip.date), p)\n",
    "    data.append((hoursSinceNoon(pugip.date), p))\n",
    "    \n",
    "# more, more!\n",
    "pugip.date = ephem.Date('2017/8/21 18:44:00')  # UTC\n",
    "endTime = pugip.date + 2. * ephem.minute\n",
    "print()\n",
    "while pugip.date < endTime:\n",
    "    pugip.date += 5. * ephem.second\n",
    "    p = proportionOverlap(moon, sun, pugip)\n",
    "    print(ephem.localtime(pugip.date), p)\n",
    "    data.append((hoursSinceNoon(pugip.date), p))\n",
    "\n",
    "# max overlap [here] is 74% at 14:44:44 ET"
   ]
  },
  {
   "cell_type": "code",
   "execution_count": 21,
   "metadata": {},
   "outputs": [
    {
     "data": {
      "application/vnd.jupyter.widget-view+json": {
       "model_id": "7363b500cf3f439788175de57f753f6e"
      }
     },
     "metadata": {},
     "output_type": "display_data"
    }
   ],
   "source": [
    "# graph and animate these lists of numbers\n",
    "import bqplot.pyplot as p\n",
    "data = sorted(data)\n",
    "xs, ys = zip(*data)\n",
    "\n",
    "#print(xs[:5], ys[:5])\n",
    "#print([x for x in xs])\n",
    "\n",
    "p.figure('overlap')\n",
    "p.plot(xs, ys)\n",
    "p.show()"
   ]
  },
  {
   "cell_type": "code",
   "execution_count": 22,
   "metadata": {},
   "outputs": [
    {
     "name": "stdout",
     "output_type": "stream",
     "text": [
      "[(datetime.datetime(2017, 8, 21, 12, 0, tzinfo=tzoffset(None, -14400)), '29'),\n",
      " (datetime.datetime(2017, 8, 21, 13, 0, tzinfo=tzoffset(None, -14400)), '31'),\n",
      " (datetime.datetime(2017, 8, 21, 14, 0, tzinfo=tzoffset(None, -14400)), '32'),\n",
      " (datetime.datetime(2017, 8, 21, 15, 0, tzinfo=tzoffset(None, -14400)), '32'),\n",
      " (datetime.datetime(2017, 8, 21, 16, 0, tzinfo=tzoffset(None, -14400)), '32')]\n"
     ]
    }
   ],
   "source": [
    "# how cloudy will it be here?\n",
    "# let's ask the National Weather Service, weather.gov,\n",
    "#   as I do at http://websitedeli.com/wsgi/fcst/?loc=08540\n",
    "import requests\n",
    "urlTemplate = 'http://forecast.weather.gov/MapClick.php?lat={lat}&lon={lon}&FcstType=digitalDWML'\n",
    "url = urlTemplate.format(**tigerLabsLocation)\n",
    "r = response = requests.get(url)\n",
    "if not r.status_code == requests.codes.ok:\n",
    "    r.raise_for_status()\n",
    "xml = r.content\n",
    "#print(xml[:44])\n",
    "\n",
    "from lxml import etree\n",
    "import io\n",
    "tree = etree.parse(io.BytesIO(xml))\n",
    "from dateutil.parser import parse as parseDate\n",
    "starttimes=[parseDate(starttime) \n",
    "            for starttime in tree.xpath('data/time-layout/start-valid-time/text()')]\n",
    "#print(starttimes[:5])\n",
    "#els=[el for el in tree.xpath('data/parameters/node()') if type(el)==etree._Element]\n",
    "#print([el.tag for el in els])\n",
    "#cloudinessNode = tree.xpath('data/parameters/cloud-amount')[0]\n",
    "#print(list(cloudinessNode))\n",
    "#v=list(cloudinessNode)[24]\n",
    "#print(v.text)\n",
    "cloudiness = [node.text for node in tree.xpath('data/parameters/cloud-amount')[0]]\n",
    "#print(cloudiness)\n",
    "from pprint import pprint\n",
    "#print(dir(noon))\n",
    "import pytz\n",
    "from datetime import timedelta\n",
    "utc=pytz.UTC\n",
    "noonDt=utc.localize(noon.datetime())\n",
    "fivePM=utc.localize(noon.datetime() + timedelta(0, 5 * 60 * 60))\n",
    "#print(noon,noonDt)\n",
    "pprint(list(z for z in zip(starttimes,cloudiness) if noonDt < z[0] < fivePM))\n",
    "# RESUME"
   ]
  },
  {
   "cell_type": "code",
   "execution_count": 23,
   "metadata": {
    "collapsed": true
   },
   "outputs": [],
   "source": [
    "# todo\n",
    "# pinhole\n",
    "#   crescents under tree\n",
    "#   light walk--may change the way you think about light and vision\n",
    "#     https://www.exploratorium.edu/bob-miller/light-walk\n",
    "#     the exploratorium led sci\n",
    "# next eclipse: 08apr2024  https://eclipse.gsfc.nasa.gov/SEgoogle/SEgoogle2001/SE2024Apr08Tgoogle.html\n",
    "\n"
   ]
  },
  {
   "cell_type": "code",
   "execution_count": 24,
   "metadata": {
    "collapsed": true
   },
   "outputs": [],
   "source": [
    "# loose ends\n",
    "\n",
    "# can a jupyter notebook run in a virtualenv so we can pip install without sudo access?\n",
    "\n",
    "# understand better:\n",
    "# Apparent geocentric position: g_ra and g_dec: where the object will \"appear\" for an observer at the center of the Earth\n",
    "# Apparent topocentric position: ra and dec: apparent position of the body as seen by the Observer on the surface of the Earth\n"
   ]
  }
 ],
 "metadata": {
  "kernelspec": {
   "display_name": "Python 3",
   "language": "python",
   "name": "python3"
  },
  "language_info": {
   "codemirror_mode": {
    "name": "ipython",
    "version": 3
   },
   "file_extension": ".py",
   "mimetype": "text/x-python",
   "name": "python",
   "nbconvert_exporter": "python",
   "pygments_lexer": "ipython3",
   "version": "3.5.2"
  }
 },
 "nbformat": 4,
 "nbformat_minor": 2
}
