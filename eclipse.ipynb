{
 "cells": [
  {
   "cell_type": "markdown",
   "metadata": {},
   "source": [
    "#  What can python tell us about the upcoming eclipse?\n",
    "\n",
    "Presented at the 14aug2017 meeting of the Princeton Python User Group: https://www.meetup.com/pug-ip/\n",
    "\n",
    "To run this notebook from an internet-connected browser, visit\n",
    "https://mybinder.org/\n",
    "and enter https://github.com/jsaponara/codingTheEclipse\n",
    "\n",
    "To run this notebook locally, see the last cell below for ubuntu 16.04 dependencies.\n",
    "\n",
    "If you just want info about the eclipse without all this coding,\n",
    "visit https://eclipse2017.nasa.gov/\n",
    "\n",
    "BUT don't miss how the dancing circles under trees in the breeze become crescents during the eclipse!"
   ]
  },
  {
   "cell_type": "code",
   "execution_count": 1,
   "metadata": {
    "collapsed": true
   },
   "outputs": [],
   "source": [
    "%matplotlib inline\n",
    "from matplotlib import pyplot as plt"
   ]
  },
  {
   "cell_type": "code",
   "execution_count": 6,
   "metadata": {},
   "outputs": [],
   "source": [
    "# pythonistas do astronomy with pyephem\n",
    "# http://rhodesmill.org/pyephem/\n",
    "import ephem\n",
    "from datetime import datetime\n",
    "# set current date to one week before the eclipse [when this presentation was given]\n",
    "nowDatetime = datetime.now().replace(year=2017, month=8, day=14)  # 2017aug14\n",
    "nowEphem = ephem.Date(nowDatetime)"
   ]
  },
  {
   "cell_type": "code",
   "execution_count": 7,
   "metadata": {},
   "outputs": [
    {
     "name": "stdout",
     "output_type": "stream",
     "text": [
      "{'lon': '-74.6513967', 'lat': '40.3522743'}\n"
     ]
    }
   ],
   "source": [
    "# where is the observer?\n",
    "\n",
    "import requests\n",
    "# requests is not built into python but is very popular\n",
    "# http://docs.python-requests.org/en/master/user/quickstart/\n",
    "\n",
    "def getLatLon(streetAddr, apiKey = None):\n",
    "    '''return lat,lon from street address string\n",
    "        google is more accurate (to the street number) but requires a (free as in beer) key\n",
    "        openstreetmap is missing our street number but knows our street\n",
    "        '''\n",
    "    gglTemplate = 'https://maps.googleapis.com/maps/api/geocode/json?address=%s&key=%s'\n",
    "    osmTemplate = 'http://nominatim.openstreetmap.org/search?q=%s&format=json'\n",
    "    if apiKey:\n",
    "        url = gglTemplate % (streetAddr, apiKey)\n",
    "    else:\n",
    "        url = osmTemplate % streetAddr\n",
    "    r = response = requests.get(url)\n",
    "    if not r.status_code == requests.codes.ok:\n",
    "        r.raise_for_status()\n",
    "    if apiKey:\n",
    "        # no license embedded, but agreed to before receipt of api key\n",
    "        return Loc(**r.json()['results'][0]['geometry']['location'])\n",
    "    else:\n",
    "        data = r.json()[0]\n",
    "        # print(data)  # note license in data['licence'] (non-American spelling)\n",
    "        return dict(lat = data['lat'], lon = data['lon'])\n",
    "\n",
    "tigerLabsLocation = getLatLon('252 Nassau St, Princeton NJ')\n",
    "print(tigerLabsLocation)\n",
    "# {'lat': '40.3491234', 'lon': '-74.6617155'}\n",
    "# this is just a few blocks away: plenty close enough for astronomy!\n",
    "# see map by dropping \"&format=json\" from osm url in browser.\n",
    "# OSM has 246 Nassau but not 252 Nassau.\n"
   ]
  },
  {
   "cell_type": "code",
   "execution_count": 8,
   "metadata": {},
   "outputs": [
    {
     "name": "stdout",
     "output_type": "stream",
     "text": [
      "now in localtime Mon Aug 14 06:36:46 2017\n",
      "now in UTC 2017/8/14 10:36:46\n",
      "is there an eclipse right now? no\n",
      "is there an eclipse at 2pm on 21aug? YES\n"
     ]
    }
   ],
   "source": [
    "# on Aug 21, is there a midafternoon eclipse here?\n",
    "\n",
    "from math import pi\n",
    "\n",
    "def createObserverAt(location, date = None):\n",
    "    obs = ephem.Observer()\n",
    "    obs.lat = location['lat']\n",
    "    obs.lon = location['lon']\n",
    "    if date:\n",
    "        obs.date = ephem.Date(date)\n",
    "    return obs\n",
    "    \n",
    "sun = ephem.Sun()\n",
    "moon = ephem.Moon()\n",
    "\n",
    "# concept: Observer = when + where; when defaults to now\n",
    "pugipNow = createObserverAt(tigerLabsLocation, nowEphem)\n",
    "# default date is now\n",
    "print('now in localtime',ephem.localtime(pugipNow.date).ctime())\n",
    "# dates default to UTC\n",
    "print('now in UTC',pugipNow.date)\n",
    "\n",
    "secondsOfArcPerRadian = (180 / pi) * 60 * 60\n",
    "# an eclipse is when moon-sun distance is less than the sum of their radii\n",
    "def isEclipse(m, s, obs):\n",
    "    m.compute(obs)\n",
    "    s.compute(obs)\n",
    "    sep = ephem.separation((m.az, m.alt), (s.az, s.alt))\n",
    "    sep = sep * secondsOfArcPerRadian\n",
    "    radii = m.size / 2. + s.size / 2.  # already in seconds of arc\n",
    "    return sep < radii\n",
    "\n",
    "# is there an eclipse right now?\n",
    "answer = 'YES' if isEclipse(moon, sun, pugipNow) else 'no'\n",
    "print('is there an eclipse right now?',answer)\n",
    "\n",
    "# is there an eclipse on 21aug at 2pm ET?\n",
    "duringEclipse = '2017/8/21 18:00:00'  # approximate\n",
    "pugipDuringEclipse = createObserverAt(tigerLabsLocation, duringEclipse)\n",
    "#print(ephem.localtime(date).ctime())\n",
    "answer = 'YES' if isEclipse(moon, sun, pugipDuringEclipse) else 'no'\n",
    "print('is there an eclipse at 2pm on 21aug?',answer)\n"
   ]
  },
  {
   "cell_type": "code",
   "execution_count": 10,
   "metadata": {
    "scrolled": false
   },
   "outputs": [
    {
     "name": "stdout",
     "output_type": "stream",
     "text": [
      "overlap now: 0.0\n",
      "overlap sometime during eclipse: 0.3028501248173875\n"
     ]
    }
   ],
   "source": [
    "# how eclipsed is the sun by the moon at a given time?\n",
    "# a convenient measure of eclipse-ness is occlusion or overlap\n",
    "# how do we compute the overlap of two circles?\n",
    "\n",
    "# shapely is a popular geometry library\n",
    "# sudo apt install libgeos-dev libgeos++-dev\n",
    "# sudo pip install shapely\n",
    "\n",
    "# in shapely, a circle is a point with a radius 'buffer'\n",
    "from shapely.geometry import Point\n",
    "\n",
    "def proportionOverlap(m, s, obs):\n",
    "    m.compute(obs)\n",
    "    s.compute(obs)\n",
    "    secondsOfArcPerRadian = (180 / pi) * 60 * 60  # todo how share btw cells?\n",
    "    #print('moon',float(m.az),float(m.alt),m.size / 2. / secondsOfArcPerRadian)\n",
    "    #print('sun',float(s.az),float(s.alt),s.size / 2. / secondsOfArcPerRadian)\n",
    "    #circle = lambda x: Point(float(x.az),float(x.alt)).buffer(x.size / 2. / secondsOfArcPerRadian)\n",
    "    circle = lambda x: Point(float(x.ra),float(x.dec)).buffer(x.size / 2. / secondsOfArcPerRadian)\n",
    "    #circle = lambda x: Point(float(x.g_ra),float(x.g_dec)).buffer(x.size / 2. / secondsOfArcPerRadian)\n",
    "    overlap = circle(m).intersection(circle(s)).area\n",
    "    return overlap / circle(s).area\n",
    "\n",
    "print('overlap now:',proportionOverlap(moon, sun, pugipNow))\n",
    "print('overlap sometime during eclipse:',proportionOverlap(moon, sun, pugipDuringEclipse))\n"
   ]
  },
  {
   "cell_type": "code",
   "execution_count": 11,
   "metadata": {},
   "outputs": [
    {
     "name": "stdout",
     "output_type": "stream",
     "text": [
      "oops: field earth_distance undefined until first compute()\n",
      "distance now to: sun 1.0129140615463257 ; moon 0.00245648087002337\n",
      "distance to moon now: 0.00245648087002337\n",
      "distance to moon duringEclipse: 0.0024504016619175673\n",
      "moon obscures sun :)\n"
     ]
    }
   ],
   "source": [
    "# comic relief: we've found that the moon overlaps the sun, \n",
    "#   but which is frontmost and which is obscured?\n",
    "\n",
    "moon2 = ephem.Moon()\n",
    "try:\n",
    "    print(moon2.earth_distance)\n",
    "except Exception as e:\n",
    "    print('oops:',e)\n",
    "# \".earth_distance\" requires observer, \n",
    "#    so it gives the distance at the observer's time\n",
    "\n",
    "# distance given in AU or astronomical units\n",
    "moon.compute(pugipNow)\n",
    "sun.compute(pugipNow)\n",
    "print('distance now to: sun',sun.earth_distance,'; moon',moon.earth_distance)\n",
    "\n",
    "# interesting that the sun is farther than average right now [mid-August]\n",
    "#   in the northern hemisphere's summer\n",
    "# exercise for the reader: when is the sun farthest from earth?\n",
    "\n",
    "# let's check that the moon's distance does indeed vary with date\n",
    "moon.compute(pugipNow)\n",
    "moon2earthNow = moon.earth_distance\n",
    "print('distance to moon now:',moon.earth_distance)\n",
    "moon.compute(pugipDuringEclipse)\n",
    "moon2earthDuringEclipse = moon.earth_distance\n",
    "print('distance to moon duringEclipse:',moon.earth_distance)\n",
    "assert moon2earthNow != moon2earthDuringEclipse\n",
    "\n",
    "# finally, which is closer during the eclipse?\n",
    "if moon.earth_distance < sun.earth_distance:\n",
    "    print('moon obscures sun :)')\n",
    "else:\n",
    "    print('sun obscures moon')\n"
   ]
  },
  {
   "cell_type": "code",
   "execution_count": 12,
   "metadata": {},
   "outputs": [
    {
     "name": "stdout",
     "output_type": "stream",
     "text": [
      "moon size: 1958.13818359375 sun size: 1894.7916259765625\n",
      "overlap during totality: 1.0\n"
     ]
    }
   ],
   "source": [
    "# the moon may not obscure 100% of the sun.\n",
    "# how much of the sun can the moon possibly obscure in the next eclipse?\n",
    "# at http://www.eclipse2017.org/2017/communities/states/SC/Columbia_1441.htm\n",
    "#   we see a place and time of totality\n",
    "columbiaSC = createObserverAt(\n",
    "    {'lat': '34', 'lon': '-81'},\n",
    "    ephem.Date('2017-8-21 18:42')\n",
    ")\n",
    "print('moon size:',moon.size,'sun size:',sun.size)\n",
    "print('overlap during totality:',proportionOverlap(moon, sun, columbiaSC))"
   ]
  },
  {
   "cell_type": "code",
   "execution_count": 14,
   "metadata": {},
   "outputs": [
    {
     "name": "stdout",
     "output_type": "stream",
     "text": [
      "2017-08-21 13:24:59 0.0016466048689543578\n",
      "2017-08-21 13:29:59 0.02239901948891472\n",
      "2017-08-21 13:34:59 0.05465939931088016\n",
      "2017-08-21 13:39:59 0.09464113846281853\n",
      "2017-08-21 13:44:59 0.1405302005482068\n",
      "2017-08-21 13:49:59 0.1911228285075431\n",
      "2017-08-21 13:54:59 0.24550739349787543\n",
      "2017-08-21 13:59:59 0.3028501169739688\n",
      "2017-08-21 14:04:59 0.3623671424320946\n",
      "2017-08-21 14:09:59 0.4231982444059794\n",
      "2017-08-21 14:14:59 0.48433460198822526\n",
      "2017-08-21 14:19:59 0.5444758862002506\n",
      "2017-08-21 14:24:59 0.6018158753767403\n",
      "2017-08-21 14:29:59 0.6537543382063382\n",
      "2017-08-21 14:34:59 0.6965095273781075\n",
      "2017-08-21 14:39:59 0.725156547748265\n",
      "2017-08-21 14:44:59 0.7347616192383138\n",
      "2017-08-21 14:49:59 0.723069243796892\n",
      "2017-08-21 14:54:59 0.6921534398774779\n",
      "2017-08-21 14:59:59 0.6468104842634079\n",
      "2017-08-21 15:04:59 0.591865894714422\n",
      "2017-08-21 15:09:59 0.5310863420667586\n",
      "2017-08-21 15:14:59 0.46713982521456215\n",
      "2017-08-21 15:19:59 0.4019132324994213\n",
      "2017-08-21 15:24:59 0.33686338330572757\n",
      "2017-08-21 15:29:59 0.2731952612695062\n",
      "2017-08-21 15:34:59 0.2120204311409911\n",
      "2017-08-21 15:39:59 0.1545132902036863\n",
      "2017-08-21 15:44:59 0.1019976994751676\n",
      "2017-08-21 15:49:59 0.05620664111417184\n",
      "2017-08-21 15:54:59 0.01984773820102484\n",
      "\n",
      "2017-08-21 14:41:00 0.7287294490906444\n",
      "2017-08-21 14:42:00 0.7314978679167945\n",
      "2017-08-21 14:43:00 0.7334418842626392\n",
      "2017-08-21 14:44:00 0.7345260645636877\n",
      "2017-08-21 14:45:00 0.734761618895175\n",
      "2017-08-21 14:46:00 0.7341139669911629\n",
      "2017-08-21 14:47:00 0.7326191917929463\n",
      "2017-08-21 14:48:00 0.7302562048036662\n",
      "2017-08-21 14:49:00 0.7270723523557941\n",
      "2017-08-21 14:50:00 0.7230692407576418\n",
      "\n",
      "2017-08-21 14:44:04 0.7345774461275609\n",
      "2017-08-21 14:44:09 0.7346232309973192\n",
      "2017-08-21 14:44:14 0.7346633700383579\n",
      "2017-08-21 14:44:19 0.7346979667719074\n",
      "2017-08-21 14:44:24 0.7347268722445529\n",
      "2017-08-21 14:44:29 0.734750272588726\n",
      "2017-08-21 14:44:34 0.7347678891470673\n",
      "2017-08-21 14:44:39 0.7347792454057183\n",
      "2017-08-21 14:44:44 0.7347843429637\n",
      "2017-08-21 14:44:49 0.7347830698620145\n",
      "2017-08-21 14:44:54 0.7347755300510147\n",
      "2017-08-21 14:44:59 0.7347616190435818\n",
      "2017-08-21 14:45:04 0.734741420488289\n",
      "2017-08-21 14:45:09 0.7347153284291575\n",
      "2017-08-21 14:45:14 0.7346829497308311\n",
      "2017-08-21 14:45:19 0.7346442489185272\n",
      "2017-08-21 14:45:24 0.7345992226101153\n",
      "2017-08-21 14:45:29 0.7345478731323895\n",
      "2017-08-21 14:45:34 0.7344902509586213\n",
      "2017-08-21 14:45:39 0.73442630610719\n",
      "2017-08-21 14:45:44 0.734356635152365\n",
      "2017-08-21 14:45:49 0.7342813622797124\n",
      "2017-08-21 14:45:54 0.7342004847199858\n",
      "2017-08-21 14:45:59 0.7341139671858374\n",
      "2017-08-21 14:46:04 0.7340218806507094\n"
     ]
    }
   ],
   "source": [
    "# when is the peak of the eclipse?\n",
    "\n",
    "noon = ephem.Date('2017-08-21 16:00:00')  # UTC\n",
    "#print('noon',ephem.localtime(noon))  # close enough\n",
    "hoursPerDay = 24\n",
    "def hoursSinceNoon(ephemDate):\n",
    "    return (ephemDate - noon) * hoursPerDay\n",
    "\n",
    "timeDuringEclipse = ephem.Date(duringEclipse)\n",
    "safeOffset = 12 * ephem.hour\n",
    "startTime = timeDuringEclipse - safeOffset\n",
    "endTime   = timeDuringEclipse + safeOffset\n",
    "pugip = createObserverAt(tigerLabsLocation, startTime)\n",
    "\n",
    "data = []\n",
    "\n",
    "while pugip.date < endTime:\n",
    "    pugip.date += ephem.minute * 5.\n",
    "    p = proportionOverlap(moon, sun, pugip)\n",
    "    if p > 0:\n",
    "        print(ephem.localtime(pugip.date), p)\n",
    "        data.append((hoursSinceNoon(pugip.date), p))\n",
    "\n",
    "# we see that the eclipse is 1:25pm - 3:55pm ET\n",
    "# presumably it peaks around 2:45\n",
    "# to increase resolution near the maximum,\n",
    "# let's try every minute from 2:40 to 2:50\n",
    "pugip.date = ephem.Date('2017/8/21 18:40:00')  # UTC\n",
    "endTime = pugip.date + 10. * ephem.minute\n",
    "print()\n",
    "while pugip.date < endTime:\n",
    "    pugip.date += 1. * ephem.minute\n",
    "    p = proportionOverlap(moon, sun, pugip)\n",
    "    print(ephem.localtime(pugip.date), p)\n",
    "    data.append((hoursSinceNoon(pugip.date), p))\n",
    "    \n",
    "# max overlap [in Princeton NJ] is 73% at 14:44:44 ET"
   ]
  },
  {
   "cell_type": "code",
   "execution_count": 12,
   "metadata": {},
   "outputs": [
    {
     "data": {
      "image/png": "[encoded data removed]",
      "text/plain": [
       "<matplotlib.figure.Figure at 0x7ff753aa12b0>"
      ]
     },
     "metadata": {},
     "output_type": "display_data"
    }
   ],
   "source": [
    "# graph and animate these lists of numbers\n",
    "\n",
    "#data = sorted(data)\n",
    "xs, ys = zip(*data)\n",
    "\n",
    "plt.figure('overlap')\n",
    "plt.plot(xs, ys)\n",
    "plt.show()\n",
    "\n",
    "# we see the maximum overlap is around 2.75 hoursSinceNoon"
   ]
  },
  {
   "cell_type": "code",
   "execution_count": 9,
   "metadata": {},
   "outputs": [
    {
     "name": "stdout",
     "output_type": "stream",
     "text": [
      "forecast as of ['2017-08-23T18:35:49-04:00']\n",
      "cloudiness between noon and 4pm ET at our location\n",
      "[]\n"
     ]
    }
   ],
   "source": [
    "# how cloudy will it be here?\n",
    "# let's ask the National Weather Service, weather.gov,\n",
    "#   as I do at http://websitedeli.com/wsgi/fcst/?loc=08540\n",
    "import requests\n",
    "urlTemplate = 'http://forecast.weather.gov/MapClick.php?lat={lat}&lon={lon}&FcstType=digitalDWML'\n",
    "url = urlTemplate.format(**tigerLabsLocation)\n",
    "r = response = requests.get(url)\n",
    "if not r.status_code == requests.codes.ok:\n",
    "    r.raise_for_status()\n",
    "xml = r.content\n",
    "#print(xml[:44])\n",
    "\n",
    "from lxml import etree\n",
    "import io\n",
    "tree = etree.parse(io.BytesIO(xml))\n",
    "from dateutil.parser import parse as parseDate\n",
    "forecastTime = tree.xpath('head/product/creation-date/text()')\n",
    "print('forecast as of',forecastTime)\n",
    "starttimes=[parseDate(starttime) \n",
    "            for starttime in tree.xpath('data/time-layout/start-valid-time/text()')]\n",
    "#print(starttimes[:5])\n",
    "els=[el for el in tree.xpath('data/parameters/node()') if type(el)==etree._Element]\n",
    "#print([el.tag for el in els])\n",
    "#cloudinessNode = tree.xpath('data/parameters/cloud-amount')[0]\n",
    "#print(list(cloudinessNode))\n",
    "#v=list(cloudinessNode)[24]\n",
    "#print(v.text)\n",
    "cloudiness = [node.text for node in tree.xpath('data/parameters/cloud-amount')[0]]\n",
    "#print(cloudiness)\n",
    "from pprint import pprint\n",
    "#print(dir(noon))\n",
    "import pytz\n",
    "from datetime import timedelta\n",
    "utc=pytz.UTC\n",
    "noonDt=utc.localize(noon.datetime())\n",
    "fivePM=utc.localize(noon.datetime() + timedelta(0, 5 * 60 * 60))\n",
    "print('cloudiness between noon and 4pm ET at our location')\n",
    "pprint(list(('%d:%02d' % (tm.hour,tm.minute),'%s%%' % cl) \n",
    "            for tm,cl in zip(starttimes,cloudiness) if noonDt < tm < fivePM))\n",
    "# re-run this cell as the date approaches--the forecast may well change\n",
    "# if you're using the default date in the past, there is no forecast available, sorry!9"
   ]
  },
  {
   "cell_type": "code",
   "execution_count": 10,
   "metadata": {
    "collapsed": true
   },
   "outputs": [],
   "source": [
    "# todo\n",
    "# simulate pinhole camera\n",
    "#   camera.py simulates camera given a bitmap image\n",
    "#      https://github.com/smidm/camera.py\n",
    "#   or maybe use blender, a 3D modeler scriptable in python\n",
    "#      http://kun-liu.com/blog/graphics/2012/03/17/simulate-real-cameras-in-blender.html\n",
    "# crescents under tree\n",
    "#   in the breeze, moving tree leaves create countless shifting \n",
    "#   pinhole cameras, each projecting a circular image of the sun onto \n",
    "#   the ground (or your screen).  During an eclipse, these circles \n",
    "#   become crescents.  Don't miss it!\n",
    "# light walk--may change the way you think about light and vision\n",
    "#   https://www.exploratorium.edu/bob-miller/light-walk\n",
    "#   [the exploratorium led science museums into the \"please touch\" era]\n",
    "# next eclipse: 08apr2024\n",
    "#   https://eclipse.gsfc.nasa.gov/SEgoogle/SEgoogle2001/SE2024Apr08Tgoogle.html\n",
    "# understand better:\n",
    "#   Apparent geocentric position: g_ra and g_dec\n",
    "#     where the object will \"appear\" for an observer at the center of the Earth\n",
    "#   Apparent topocentric position: ra and dec\n",
    "#     apparent position of the body as seen by the Observer on the surface of the Earth\n",
    "\n",
    "# admin todo\n",
    "#   run jupyter notebook run in a virtualenv so we can pip install without sudo access"
   ]
  },
  {
   "cell_type": "code",
   "execution_count": 11,
   "metadata": {
    "collapsed": true
   },
   "outputs": [],
   "source": [
    "# to run this notebook locally on ubuntu 16.04\n",
    "\n",
    "# sudo apt install python3-pip\n",
    "# sudo pip3 install --upgrade pip3\n",
    "# sudo apt install libgeos-dev libgeos++-dev\n",
    "# sudo -H pip3 install shapely\n",
    "# sudo -H pip3 install jupyter\n",
    "# sudo -H pip3 install requests\n",
    "# sudo -H pip3 install pyephem\n",
    "# sudo jupyter nbextension enable --py --sys-prefix widgetsnbextension\n",
    "# sudo -H pip3 install matplotlib\n",
    "# [cd to folder with notebook]\n",
    "# jupyter-notebook\n",
    "# [click on notebook file]"
   ]
  }
 ],
 "metadata": {
  "kernelspec": {
   "display_name": "Python 3",
   "language": "python",
   "name": "python3"
  },
  "language_info": {
   "codemirror_mode": {
    "name": "ipython",
    "version": 3
   },
   "file_extension": ".py",
   "mimetype": "text/x-python",
   "name": "python",
   "nbconvert_exporter": "python",
   "pygments_lexer": "ipython3",
   "version": "3.5.2"
  }
 },
 "nbformat": 4,
 "nbformat_minor": 2
}
